{
 "cells": [
  {
   "cell_type": "markdown",
   "metadata": {},
   "source": [
    "# `*args` and `**kwargs` in python explained\n",
    "\n",
    "---\n",
    "[Reference](https://pythontips.com/2013/08/04/args-and-kwargs-in-python-explained/)\n",
    "\n",
    "So what are they ? First of all let me tell you that it is not necessary to write `*args` or `**kwargs`. \n",
    "\n",
    "Only the * (aesteric) is necessary. You could have also written `*var` and `**vars`. Writing `*args` and `**kwargs` is just a convention.\n",
    "\n",
    "So now lets take a look at `*args` first.\n"
   ]
  },
  {
   "cell_type": "markdown",
   "metadata": {},
   "source": [
    "## 1. Usage of args \n",
    "_args_ and _kwargs_ are mostly used in function definitions. \n",
    "_args_ and _kwargs_ allow you to pass a variable number of arguments to a function.\n",
    "\n",
    "_args_ is used to send a **non-keyworded** variable length argument list to the function.\n",
    "\n",
    "Here’s an example to help you get a clear idea:"
   ]
  },
  {
   "cell_type": "code",
   "execution_count": 1,
   "metadata": {},
   "outputs": [
    {
     "name": "stdout",
     "output_type": "stream",
     "text": [
      "first normal argument : yasoob\n",
      "\n",
      "another arg through *args : python\n",
      "\n",
      "another arg through *args : eggs\n",
      "\n",
      "another arg through *args : test\n"
     ]
    }
   ],
   "source": [
    "def test_var_args(first, *args):\n",
    "    print(\"first normal argument :\", first)\n",
    "    for arg in args:\n",
    "        print(\"\\nanother arg through *args :\", arg)\n",
    "\n",
    "test_var_args('yasoob','python','eggs','test')"
   ]
  },
  {
   "cell_type": "code",
   "execution_count": 2,
   "metadata": {},
   "outputs": [
    {
     "name": "stdout",
     "output_type": "stream",
     "text": [
      "(12, 'abc')\n"
     ]
    }
   ],
   "source": [
    "def my_function(*args):\n",
    "    print(str(args))\n",
    "\n",
    "my_function(12, \"abc\")"
   ]
  },
  {
   "cell_type": "markdown",
   "metadata": {},
   "source": [
    "## 2. Usage of kwargs\n",
    "\n",
    "_kwargs_ allows you to pass keyworded variable length of arguments to a function. You should use _kwargs_ if you want to handle named arguments in a function.\n",
    "\n",
    "Here is an example to get you going with it:"
   ]
  },
  {
   "cell_type": "code",
   "execution_count": 3,
   "metadata": {},
   "outputs": [
    {
     "name": "stdout",
     "output_type": "stream",
     "text": [
      "{'a': 12, 'b': 'abc'}\n"
     ]
    }
   ],
   "source": [
    "def my_function(**kwargs):\n",
    "    print(str(kwargs))\n",
    "\n",
    "my_function(a = 12, b = \"abc\")"
   ]
  },
  {
   "cell_type": "code",
   "execution_count": 4,
   "metadata": {},
   "outputs": [],
   "source": [
    "def greet_me(**kwargs):\n",
    "    if kwargs is not None:\n",
    "        for key in kwargs:\n",
    "            print(\"%s == %s\" %(key,kwargs[key]))"
   ]
  },
  {
   "cell_type": "code",
   "execution_count": 5,
   "metadata": {},
   "outputs": [
    {
     "name": "stdout",
     "output_type": "stream",
     "text": [
      "name == yasoob\n"
     ]
    }
   ],
   "source": [
    "greet_me(name=\"yasoob\")"
   ]
  },
  {
   "cell_type": "markdown",
   "metadata": {},
   "source": [
    "---\n",
    "\n",
    "_Summarizing:_\n",
    "\n",
    "So, basically double aesteric let us pass keyworded elements into our functions. Instead, one aesteric is for non-keyworded.\n",
    "\n",
    "`**kwargs` will store our arguments into a dictionary, `*args` in a tuple."
   ]
  },
  {
   "cell_type": "code",
   "execution_count": 6,
   "metadata": {},
   "outputs": [],
   "source": [
    "def my_func(*args, **kwargs):\n",
    "    print(\"args type: {}\\nkwargs type: {}\".format(type(args), type(kwargs)))\n",
    "    print('args: ' + str(args))\n",
    "    print('kwargs: ' + str(kwargs))"
   ]
  },
  {
   "cell_type": "code",
   "execution_count": 7,
   "metadata": {},
   "outputs": [
    {
     "name": "stdout",
     "output_type": "stream",
     "text": [
      "args type: <class 'tuple'>\n",
      "kwargs type: <class 'dict'>\n",
      "args: ('ciao', 88)\n",
      "kwargs: {'a': 'ciaone', 'b': 33}\n"
     ]
    }
   ],
   "source": [
    "my_func(\"ciao\", 88, a='ciaone',b=33)"
   ]
  },
  {
   "cell_type": "code",
   "execution_count": null,
   "metadata": {},
   "outputs": [],
   "source": []
  }
 ],
 "metadata": {
  "kernelspec": {
   "display_name": "Python 3",
   "language": "python",
   "name": "python3"
  },
  "language_info": {
   "codemirror_mode": {
    "name": "ipython",
    "version": 3
   },
   "file_extension": ".py",
   "mimetype": "text/x-python",
   "name": "python",
   "nbconvert_exporter": "python",
   "pygments_lexer": "ipython3",
   "version": "3.6.4"
  }
 },
 "nbformat": 4,
 "nbformat_minor": 2
}
