{
 "cells": [
  {
   "cell_type": "markdown",
   "metadata": {
    "colab_type": "text",
    "id": "xloe1dsLGuI1"
   },
   "source": [
    "# [Knock Knock](https://github.com/huggingface/knockknock) python library tutorial\n",
    "\n",
    "---\n",
    "\n",
    "_Description:_\n",
    "\n",
    "A small library to get a notification when your training is complete or when it crashes during the process with two additional lines of code.\n",
    "\n",
    "When training deep learning models, it is common to use early stopping. Apart from a rough estimate, it is difficult to predict when the training will finish. Thus, it can be interesting to set up automatic notifications for your training. It is also interesting to be notified when your training crashes in the middle of the process for unexpected reasons.\n",
    "\n",
    "---\n",
    "\n",
    "### Here is a simple tutorial using [Telegram Bots](https://core.telegram.org/bots#6-botfather)!\n",
    "\n",
    "![mybotchat](mybotchat.jpg)"
   ]
  },
  {
   "cell_type": "markdown",
   "metadata": {
    "colab_type": "text",
    "id": "m3mO3kD7H-es"
   },
   "source": [
    "1. First of all, you need Telegram on your mobile phone 😅.\n",
    "\n",
    "2. After having installed it, go to **\"Chats\"** and search for **\"BotFather\"** and start a new chat with it.\n",
    "\n",
    "![botfather](botsearch.jpg)\n",
    "\n",
    "3. Use the command **/newbot** to create your first new bot 🤖. Follow the required steps and you should receive a message like this.\n",
    "\n",
    "![tokenmess](botfatherchat.jpg)\n",
    "\n",
    "4. Your token should be something like: **110201543:AAHdqTcvCH1vGWJxfSeofSAs0K5PALDsaw**. Save it safely and don't share it!\n",
    "\n",
    "5. Cool! You have just created your bot! Start the conversation and **send the first message.**\n",
    "\n",
    "---\n",
    "\n",
    "#### _We are ready to go_ 😎_! Insert your token in the second cell and run all!_"
   ]
  },
  {
   "cell_type": "code",
   "execution_count": null,
   "metadata": {
    "colab": {},
    "colab_type": "code",
    "id": "J0BLOCoCtuEo"
   },
   "outputs": [],
   "source": [
    "!pip install knockknock"
   ]
  },
  {
   "cell_type": "code",
   "execution_count": null,
   "metadata": {
    "colab": {},
    "colab_type": "code",
    "id": "BqX4pyBWN--d"
   },
   "outputs": [],
   "source": [
    "# Put your token as a string\n",
    "your_token = \"<your-token>\""
   ]
  },
  {
   "cell_type": "code",
   "execution_count": null,
   "metadata": {
    "colab": {},
    "colab_type": "code",
    "id": "QcXFx0rTMzWl"
   },
   "outputs": [],
   "source": [
    "import requests\n",
    "import json\n",
    "\n",
    "# Let's get your chat id! Be sure to have sent a message to your bot.\n",
    "\n",
    "url = 'https://api.telegram.org/bot'+str(your_token)+'/getUpdates'\n",
    "response = requests.get(url)\n",
    "myinfo = response.json()\n",
    "if response.status_code == 401:\n",
    "  raise NameError('Check if your token is correct.')\n",
    "\n",
    "try:  \n",
    "  CHAT_ID: int = myinfo['result'][1]['message']['chat']['id']\n",
    "\n",
    "  print('This is your Chat ID:', CHAT_ID)\n",
    "  \n",
    "except:\n",
    "  print('Have you sent a message to your bot? Telegram bot are quite shy 🤣.')"
   ]
  },
  {
   "cell_type": "code",
   "execution_count": null,
   "metadata": {
    "colab": {},
    "colab_type": "code",
    "id": "RaNE-xmptzzp"
   },
   "outputs": [],
   "source": [
    "from knockknock import telegram_sender\n",
    "\n",
    "@telegram_sender(token=your_token, chat_id=CHAT_ID)\n",
    "def train_your_nicest_model(your_nicest_parameters=''):\n",
    "    '''\n",
    "    Here you can include your own model function and pass your parameters\n",
    "    '''\n",
    "    import time\n",
    "    time.sleep(100)\n",
    "    model_val_score = 'This is your model score'\n",
    "    return {\"Return something\": model_val_score}"
   ]
  },
  {
   "cell_type": "code",
   "execution_count": null,
   "metadata": {
    "colab": {
     "base_uri": "https://localhost:8080/",
     "height": 34
    },
    "colab_type": "code",
    "id": "Nj_ixsLZ0UnX",
    "outputId": "40dc5f88-a13a-4d5a-edb7-bc3afab1829f"
   },
   "outputs": [],
   "source": [
    "train_your_nicest_model()"
   ]
  }
 ],
 "metadata": {
  "colab": {
   "collapsed_sections": [],
   "name": "Knock_Knock_tutorial.ipynb",
   "provenance": []
  },
  "kernelspec": {
   "display_name": "Python 3",
   "language": "python",
   "name": "python3"
  },
  "language_info": {
   "codemirror_mode": {
    "name": "ipython",
    "version": 3
   },
   "file_extension": ".py",
   "mimetype": "text/x-python",
   "name": "python",
   "nbconvert_exporter": "python",
   "pygments_lexer": "ipython3",
   "version": "3.7.3"
  }
 },
 "nbformat": 4,
 "nbformat_minor": 1
}
