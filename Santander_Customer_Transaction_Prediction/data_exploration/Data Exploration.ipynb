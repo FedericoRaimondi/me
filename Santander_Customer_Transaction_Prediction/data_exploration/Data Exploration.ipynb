{
 "cells": [
  {
   "cell_type": "markdown",
   "metadata": {},
   "source": [
    "# Data Exploration - Santander Customer Transaction Prediction"
   ]
  },
  {
   "cell_type": "markdown",
   "metadata": {},
   "source": [
    "In this notebook you can find a preliminary study for the [Santander Customer Transaction Prediction Challenge on Kaggle.com](https://www.kaggle.com/c/santander-customer-transaction-prediction)\n",
    "![alt text](Kaggle.png)![alt text](im-wcsanusa-logo-7-19-18.png)"
   ]
  },
  {
   "cell_type": "markdown",
   "metadata": {},
   "source": [
    "###### Description\n",
    "At [Santander](https://www.santanderbank.com) our mission is to help people and businesses prosper. We are always looking for ways to help our customers understand their financial health and identify which products and services might help them achieve their monetary goals.\n",
    "\n",
    "Our data science team is continually challenging our machine learning algorithms, working with the global data science community to make sure we can more accurately identify new ways to solve our most common challenge, binary classification problems such as: is a customer satisfied? Will a customer buy this product? Can a customer pay this loan?\n",
    "\n",
    "In this challenge, we invite Kagglers to help us identify which customers will make a specific transaction in the future, irrespective of the amount of money transacted. The data provided for this competition has the same structure as the real data we have available to solve this problem."
   ]
  },
  {
   "cell_type": "code",
   "execution_count": null,
   "metadata": {},
   "outputs": [],
   "source": [
    "# Importing all the libraries needed\n",
    "import os\n",
    "from IPython.display import Image\n",
    "Image(\"Kaggle.png\") # same directory\n",
    "Image(\"im-wcsanusa-logo-7-19-18.png\") # same directory\n",
    "import pandas as pd\n",
    "import matplotlib.pyplot as plt\n",
    "import seaborn as sns\n",
    "sns.set()\n",
    "\n",
    "%matplotlib inline\n",
    "\n",
    "# getting my path C:\\\\Users\\\\username\\\\Desktop\n",
    "# /Users/username/Desktop for Mac\n",
    "path = os.getcwd()\n",
    "# / if Mac \\\\ if Windows\n",
    "path = '/'.join(path.split(\"/\")[:4])"
   ]
  },
  {
   "cell_type": "code",
   "execution_count": null,
   "metadata": {},
   "outputs": [],
   "source": [
    "# reading the training set (train.csv), I had this file in C:\\\\Users\\\\username\\\\Desktop\\\\...\n",
    "# / if Mac \\\\ if Windows\n",
    "df = pd.read_csv(path + '/Santander_Customer_Transaction_Prediction/data/train.csv')"
   ]
  },
  {
   "cell_type": "code",
   "execution_count": null,
   "metadata": {},
   "outputs": [],
   "source": [
    "# first records\n",
    "df.head(5)"
   ]
  },
  {
   "cell_type": "code",
   "execution_count": null,
   "metadata": {},
   "outputs": [],
   "source": [
    "# last records\n",
    "df.tail(5)"
   ]
  },
  {
   "cell_type": "code",
   "execution_count": null,
   "metadata": {},
   "outputs": [],
   "source": [
    "# here a quick view of our df\n",
    "df.describe()"
   ]
  },
  {
   "cell_type": "code",
   "execution_count": null,
   "metadata": {
    "scrolled": true
   },
   "outputs": [],
   "source": [
    "# data types and df shape\n",
    "print(df.dtypes)\n",
    "print(df.shape)"
   ]
  },
  {
   "cell_type": "code",
   "execution_count": null,
   "metadata": {},
   "outputs": [],
   "source": [
    "# Finding the null values if present:\n",
    "if True in list(df.isnull().any()):\n",
    "    print('There are some null values here!\\nVar_Name; number_of_nulls:')\n",
    "    print(df[df.columns[df.isnull().any()]].isnull().sum())\n",
    "else:\n",
    "    print('No null values in your df!')"
   ]
  },
  {
   "cell_type": "code",
   "execution_count": null,
   "metadata": {},
   "outputs": [],
   "source": [
    "# putting all the df colname in a list\n",
    "dfcols = list(df.columns)\n",
    "\n",
    "# exculdig target and index columns\n",
    "variables = dfcols[2:]\n",
    "\n",
    "# splitting the list every n elements:\n",
    "n = 10\n",
    "chunks = [variables[x:x + n] for x in range(0, len(variables), n)]"
   ]
  },
  {
   "cell_type": "code",
   "execution_count": null,
   "metadata": {
    "scrolled": true
   },
   "outputs": [],
   "source": [
    "# displaying a boxplot every n columns:\n",
    "for i in chunks:\n",
    "    plt.show(df.boxplot(column = i))"
   ]
  },
  {
   "cell_type": "markdown",
   "metadata": {},
   "source": [
    "## Let's look closer\n",
    "###### Select an index from 0 to 199"
   ]
  },
  {
   "cell_type": "code",
   "execution_count": null,
   "metadata": {},
   "outputs": [],
   "source": [
    "# choose a column index\n",
    "index = 34"
   ]
  },
  {
   "cell_type": "code",
   "execution_count": null,
   "metadata": {
    "scrolled": false
   },
   "outputs": [],
   "source": [
    "# displaying boxplots for the selected column:\n",
    "fig1, axes1 = plt.subplots(ncols = 2, sharey = True, figsize=(10,5))\n",
    "\n",
    "# boxplot only for records with target = 1\n",
    "ax1 = df.loc[df[\"target\"] == 1].boxplot(column = variables[index], ax=axes1[0], sym='k.')\n",
    "ax1.set_title('Target = 1')\n",
    "\n",
    "# boxplot only for records with target = 0\n",
    "ax2 = df.loc[df[\"target\"] == 0].boxplot(column = variables[index], ax=axes1[1], sym='k.')\n",
    "ax2.set_title('Target = 0')\n",
    "\n",
    "fig1.suptitle(\"Boxplots for column: \" + str(variables[index]), fontsize=15)\n",
    "plt.show()\n",
    "\n",
    "#displaying histograms for the selected column:\n",
    "fig2, axes2 = plt.subplots(nrows = 2, sharex = True, figsize=(8,10))\n",
    "\n",
    "# boxplot only for records with target = 1\n",
    "ax1 = df.loc[df[\"target\"] == 1][variables[index]].plot.hist(ax=axes2[0], bins=20, color='green', alpha=0.7)\n",
    "ax1.set_title('Target = 1')\n",
    "\n",
    "# boxplot only for records with target = 0\n",
    "ax2 = df.loc[df[\"target\"] == 0][variables[index]].plot.hist(ax=axes2[1], bins=20, color='blue', alpha=0.7)\n",
    "ax2.set_title('Target = 0')\n",
    "\n",
    "fig2.suptitle(\"Histograms for column: \" + str(variables[index]), fontsize=15)\n",
    "plt.show()"
   ]
  },
  {
   "cell_type": "markdown",
   "metadata": {},
   "source": [
    "## Is the Dataset balanced?\n",
    "## How many 0 and 1 items there are?"
   ]
  },
  {
   "cell_type": "code",
   "execution_count": null,
   "metadata": {},
   "outputs": [],
   "source": [
    "mylst = list(df[\"target\"].value_counts())\n",
    "zero = round(float((mylst[0]/sum(mylst))*100),2)\n",
    "one = round(float((mylst[1]/sum(mylst))*100),2)\n",
    "print('The dataset has {zero} % of target 0 and {one} % of target 1'.format(zero=zero, one=one))"
   ]
  }
 ],
 "metadata": {
  "kernelspec": {
   "display_name": "Python 3",
   "language": "python",
   "name": "python3"
  },
  "language_info": {
   "codemirror_mode": {
    "name": "ipython",
    "version": 3
   },
   "file_extension": ".py",
   "mimetype": "text/x-python",
   "name": "python",
   "nbconvert_exporter": "python",
   "pygments_lexer": "ipython3",
   "version": "3.6.4"
  }
 },
 "nbformat": 4,
 "nbformat_minor": 2
}
